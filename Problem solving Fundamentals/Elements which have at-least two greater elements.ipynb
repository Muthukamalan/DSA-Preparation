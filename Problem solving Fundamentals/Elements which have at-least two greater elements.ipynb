{
 "cells": [
  {
   "cell_type": "markdown",
   "id": "c9d6ccbd",
   "metadata": {},
   "source": [
    "\n",
    "# Problem Description\n",
    "\n",
    "You are given an array of distinct integers A, you have to find and return all elements in array which have at-least two greater elements than themselves.\n",
    "\n",
    "NOTE: The result should have the order in which they are present in the original array.\n",
    "\n",
    "\n",
    "\n",
    "### Problem Constraints\n",
    "3 <= |A| <= 105\n",
    "\n",
    "-109 <= A[i] <= 109\n",
    "\n",
    "\n",
    "\n",
    "### Input Format\n",
    "First and only argument is an integer array A.\n",
    "\n",
    "\n",
    "\n",
    "### Output Format\n",
    "Return an integer array containing the elements of A which have at-least two greater elements than themselves in A.\n",
    "\n",
    "\n",
    "\n",
    "### Example Input\n",
    "Input 1:\n",
    "A = [1, 2, 3, 4, 5]\n",
    "\n",
    "Input 2:\n",
    "A = [11, 17, 100, 5]\n",
    "\n",
    "\n",
    "### Example Output\n",
    "Output 1:\n",
    " [1, 2, 3]\n",
    "\n",
    "Output 2:\n",
    " [11, 5]\n",
    "\n",
    "\n",
    "###  Example Explanation\n",
    "##### Explanation 1:\n",
    "\n",
    " Number of elements greater than 1: 4\n",
    " Number of elements greater than 2: 3\n",
    " Number of elements greater than 3: 2\n",
    " Number of elements greater than 4: 1\n",
    " Number of elements greater than 5: 0\n",
    " Elements 1, 2 and 3 have atleast 2 elements strictly greater than themselves.\n",
    "\n",
    "##### Explanation 2:\n",
    "\n",
    " Number of elements greater than 11: 2\n",
    " Number of elements greater than 17: 1\n",
    " Number of elements greater than 100: 0\n",
    " Number of elements greater than 5: 3\n",
    " Elements 5 and 11 have atleast 2 elements strictly greater than themselves."
   ]
  },
  {
   "cell_type": "code",
   "execution_count": 1,
   "id": "1ea81305",
   "metadata": {},
   "outputs": [],
   "source": [
    "def solve(A):\n",
    "    fm,sm = (A[0],A[1]) if A[0]>A[1] else (A[1],A[0])\n",
    "    for i in range(2,len(A)):\n",
    "        if(A[i]>fm):\n",
    "            sm=fm\n",
    "            fm=A[i]\n",
    "        elif(A[i]>sm):\n",
    "            sm=A[i]\n",
    "    A.remove(fm)  \n",
    "    A.remove(sm)\n",
    "    return A"
   ]
  },
  {
   "cell_type": "code",
   "execution_count": 2,
   "id": "f8cb26af",
   "metadata": {},
   "outputs": [
    {
     "data": {
      "text/plain": [
       "[11, 5]"
      ]
     },
     "execution_count": 2,
     "metadata": {},
     "output_type": "execute_result"
    }
   ],
   "source": [
    "A = [11, 17, 100, 5]\n",
    "solve(A)"
   ]
  },
  {
   "cell_type": "code",
   "execution_count": 3,
   "id": "198d9960",
   "metadata": {},
   "outputs": [
    {
     "data": {
      "text/plain": [
       "[1, 2, 3]"
      ]
     },
     "execution_count": 3,
     "metadata": {},
     "output_type": "execute_result"
    }
   ],
   "source": [
    "A =  [1, 2, 3, 4, 5]\n",
    "solve(A)"
   ]
  },
  {
   "cell_type": "code",
   "execution_count": 4,
   "id": "53e8a3a7",
   "metadata": {},
   "outputs": [],
   "source": [
    "   def solve(A):\n",
    "        N = len(A)\n",
    "        firstGreatest = max(A[0], A[1])\n",
    "        secondGreatest = min(A[0], A[1])\n",
    "        for i in range(2, N):\n",
    "            if A[i] > firstGreatest:\n",
    "                secondGreatest = firstGreatest\n",
    "                firstGreatest = A[i]\n",
    "            elif A[i] > secondGreatest:\n",
    "                secondGreatest = A[i]\n",
    "        res = []\n",
    "        for i in range(0, N):\n",
    "            if A[i] != secondGreatest and A[i] != firstGreatest:\n",
    "                res.append(A[i])\n",
    "\n",
    "        return res\n",
    "    # InterviewBit -  Complete Solution"
   ]
  }
 ],
 "metadata": {
  "kernelspec": {
   "display_name": "Python 3 (ipykernel)",
   "language": "python",
   "name": "python3"
  },
  "language_info": {
   "codemirror_mode": {
    "name": "ipython",
    "version": 3
   },
   "file_extension": ".py",
   "mimetype": "text/x-python",
   "name": "python",
   "nbconvert_exporter": "python",
   "pygments_lexer": "ipython3",
   "version": "3.8.8"
  }
 },
 "nbformat": 4,
 "nbformat_minor": 5
}
