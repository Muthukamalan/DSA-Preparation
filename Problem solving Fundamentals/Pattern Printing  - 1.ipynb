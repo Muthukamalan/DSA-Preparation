{
 "cells": [
  {
   "cell_type": "markdown",
   "id": "3492b5c2",
   "metadata": {},
   "source": [
    "# Pattern Priting -1\n",
    "\n",
    "\n",
    "### Problem Description\n",
    "\n",
    "Print a Pattern According to The Given Value of A.\n",
    "\n",
    "#### Example: \n",
    "For A = 3 pattern looks like:\n",
    "1 0 0\n",
    "1 2 0\n",
    "1 2 3\n",
    "\n",
    "\n",
    "\n",
    "##### Problem Constraints\n",
    "1 <= A <= 1000\n",
    "\n",
    "\n",
    "##### Input Format\n",
    "First and only argument is an integer denoting A\n",
    "\n",
    "\n",
    "##### Output Format\n",
    "Return a two-dimensional array where each row in the returned array represents a row in the pattern.\n",
    "\n",
    "\n",
    "\n",
    "##### Example Input\n",
    "Input 2:\n",
    "\n",
    " A = 4\n",
    "\n",
    "\n",
    "##### Example Output\n",
    "Output 2:\n",
    "\n",
    " [ \n",
    "   [1, 0, 0, 0]\n",
    "   [1, 2, 0, 0]\n",
    "   [1, 2, 3, 0]\n",
    "   [1, 2, 3, 4]\n",
    " ]\n",
    "\n",
    "\n",
    "#### Example Explanation\n",
    "Explanation 2:\n",
    "\n",
    " \n",
    " For A = 4 pattern looks like:  \n",
    "                             1 0 0 0\n",
    "                             1 2 0 0\n",
    "                             1 2 3 0\n",
    "                             1 2 3 4\n",
    " So we will return it as two-dimensional array."
   ]
  },
  {
   "cell_type": "code",
   "execution_count": 1,
   "id": "97636af4",
   "metadata": {},
   "outputs": [],
   "source": [
    "def solve(A):\n",
    "    res = []\n",
    "    for i in range(1,A+1):\n",
    "        counter=1;row=[]\n",
    "        for j in range(1,A+1):\n",
    "            row.append(counter) if(i>=j) else row.append(0)\n",
    "            counter+=1\n",
    "        res.append(row)\n",
    "    return res"
   ]
  },
  {
   "cell_type": "code",
   "execution_count": 2,
   "id": "e4d5bd93",
   "metadata": {},
   "outputs": [],
   "source": [
    "A=15"
   ]
  },
  {
   "cell_type": "code",
   "execution_count": 3,
   "id": "98cfc8b9",
   "metadata": {},
   "outputs": [
    {
     "data": {
      "text/plain": [
       "[[1, 0, 0, 0, 0, 0, 0, 0, 0, 0, 0, 0, 0, 0, 0],\n",
       " [1, 2, 0, 0, 0, 0, 0, 0, 0, 0, 0, 0, 0, 0, 0],\n",
       " [1, 2, 3, 0, 0, 0, 0, 0, 0, 0, 0, 0, 0, 0, 0],\n",
       " [1, 2, 3, 4, 0, 0, 0, 0, 0, 0, 0, 0, 0, 0, 0],\n",
       " [1, 2, 3, 4, 5, 0, 0, 0, 0, 0, 0, 0, 0, 0, 0],\n",
       " [1, 2, 3, 4, 5, 6, 0, 0, 0, 0, 0, 0, 0, 0, 0],\n",
       " [1, 2, 3, 4, 5, 6, 7, 0, 0, 0, 0, 0, 0, 0, 0],\n",
       " [1, 2, 3, 4, 5, 6, 7, 8, 0, 0, 0, 0, 0, 0, 0],\n",
       " [1, 2, 3, 4, 5, 6, 7, 8, 9, 0, 0, 0, 0, 0, 0],\n",
       " [1, 2, 3, 4, 5, 6, 7, 8, 9, 10, 0, 0, 0, 0, 0],\n",
       " [1, 2, 3, 4, 5, 6, 7, 8, 9, 10, 11, 0, 0, 0, 0],\n",
       " [1, 2, 3, 4, 5, 6, 7, 8, 9, 10, 11, 12, 0, 0, 0],\n",
       " [1, 2, 3, 4, 5, 6, 7, 8, 9, 10, 11, 12, 13, 0, 0],\n",
       " [1, 2, 3, 4, 5, 6, 7, 8, 9, 10, 11, 12, 13, 14, 0],\n",
       " [1, 2, 3, 4, 5, 6, 7, 8, 9, 10, 11, 12, 13, 14, 15]]"
      ]
     },
     "execution_count": 3,
     "metadata": {},
     "output_type": "execute_result"
    }
   ],
   "source": [
    "solve(A)"
   ]
  }
 ],
 "metadata": {
  "kernelspec": {
   "display_name": "Python 3 (ipykernel)",
   "language": "python",
   "name": "python3"
  },
  "language_info": {
   "codemirror_mode": {
    "name": "ipython",
    "version": 3
   },
   "file_extension": ".py",
   "mimetype": "text/x-python",
   "name": "python",
   "nbconvert_exporter": "python",
   "pygments_lexer": "ipython3",
   "version": "3.8.8"
  }
 },
 "nbformat": 4,
 "nbformat_minor": 5
}
