{
 "cells": [
  {
   "cell_type": "markdown",
   "id": "6d22dee7",
   "metadata": {},
   "source": [
    "## Input Format\n",
    "Given only argument A an Array of Integers.\n",
    " \n",
    "## Output Format\n",
    "Return an Integer X, i.e number of elements."
   ]
  },
  {
   "cell_type": "code",
   "execution_count": 1,
   "id": "cf248e6a",
   "metadata": {},
   "outputs": [],
   "source": [
    "def solve(A):\n",
    "        small = min(A)\n",
    "        big   = max(A)\n",
    "        cnt=0\n",
    "        for count,ele in enumerate(A):\n",
    "            if(small<ele  and big>ele ):\n",
    "                cnt+=1\n",
    "        return cnt"
   ]
  },
  {
   "cell_type": "code",
   "execution_count": 2,
   "id": "eb867f59",
   "metadata": {},
   "outputs": [
    {
     "name": "stdout",
     "output_type": "stream",
     "text": [
      "1\n"
     ]
    }
   ],
   "source": [
    "A = [1, 2, 3]\n",
    "print(solve(A))"
   ]
  },
  {
   "cell_type": "markdown",
   "id": "0d4505ac",
   "metadata": {},
   "source": [
    "### Explanation:\n",
    "\n",
    "only 2 have a strictly smaller and strictly greater element, 1 and 3 respectively."
   ]
  }
 ],
 "metadata": {
  "kernelspec": {
   "display_name": "Python 3 (ipykernel)",
   "language": "python",
   "name": "python3"
  },
  "language_info": {
   "codemirror_mode": {
    "name": "ipython",
    "version": 3
   },
   "file_extension": ".py",
   "mimetype": "text/x-python",
   "name": "python",
   "nbconvert_exporter": "python",
   "pygments_lexer": "ipython3",
   "version": "3.8.8"
  }
 },
 "nbformat": 4,
 "nbformat_minor": 5
}
