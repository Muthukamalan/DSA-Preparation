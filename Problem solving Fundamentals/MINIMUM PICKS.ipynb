{
 "cells": [
  {
   "cell_type": "markdown",
   "id": "d2378e05",
   "metadata": {},
   "source": [
    "## Problem Description\n",
    "\n",
    "You are given an array of integers A of size N.\n",
    "Return the difference between the maximum among all even numbers of A and the minimum among all odd numbers in A.\n",
    "\n",
    "\n",
    "\n",
    "### Problem Constraints\n",
    "2 <= N <= 1e5\n",
    "-1e9 <= A[i] <= 1e9\n",
    "There is atleast 1 odd and 1 even number in A\n",
    "\n",
    "### Input Format\n",
    "The first argument given is the integer array, A.\n",
    "\n",
    "### Output Format\n",
    "Return maximum among all even numbers of A - minimum among all odd numbers in A.\n",
    "\n",
    "\n",
    "\n",
    "#### Example Input\n",
    "Input 1:   A = [0, 2, 9]\n",
    "Input 2:   A = [5, 17, 100, 1]\n",
    "\n",
    "\n",
    "#### Example Output\n",
    "Output 1:    -7\n",
    "Output 2:    99\n",
    "\n",
    "\n",
    "#### Example Explanation\n",
    "Explanation 1:\n",
    "Maximum of all even numbers = 2\n",
    "Minimum of all odd numbers = 9\n",
    "ans = 2 - 9 = -7\n",
    "\n",
    "Explanation 2:\n",
    "Maximum of all even numbers = 100\n",
    "Minimum of all odd numbers = 1\n",
    "ans = 100 - 1 = 99"
   ]
  },
  {
   "cell_type": "code",
   "execution_count": 3,
   "id": "2fdb07b2",
   "metadata": {},
   "outputs": [],
   "source": [
    " def solve( A):\n",
    "        evens = []; odds = []\n",
    "        for idx,i in enumerate(A):\n",
    "            if(i%2==0):\n",
    "                evens.append(i)\n",
    "            else:\n",
    "                odds.append(i)\n",
    "        return max(evens) - min(odds)"
   ]
  },
  {
   "cell_type": "code",
   "execution_count": 8,
   "id": "04fd26f7",
   "metadata": {},
   "outputs": [],
   "source": [
    "def solve2(A):\n",
    "    len_ = len(A)    \n",
    "    \n",
    "    i=0\n",
    "    while(i<len_):\n",
    "        if(A[i]%2==0):\n",
    "            max_even=A[i]\n",
    "            break\n",
    "        i+=1\n",
    "\n",
    "    j=0\n",
    "    while(j<len_):\n",
    "        if(A[j]%2!=0):\n",
    "            min_odd=A[j]\n",
    "            break\n",
    "        j+=1\n",
    "            \n",
    "    for i in A:\n",
    "        if(i%2==0 and max_even<i):\n",
    "            max_even=i\n",
    "        elif(i%2!=0 and min_odd>i):\n",
    "            min_odd=i\n",
    "                \n",
    "    return(max_even-min_odd)"
   ]
  },
  {
   "cell_type": "code",
   "execution_count": 11,
   "id": "7517d80d",
   "metadata": {},
   "outputs": [],
   "source": [
    "A=[5,17,100,1]"
   ]
  },
  {
   "cell_type": "code",
   "execution_count": 12,
   "id": "679033b4",
   "metadata": {},
   "outputs": [
    {
     "data": {
      "text/plain": [
       "99"
      ]
     },
     "execution_count": 12,
     "metadata": {},
     "output_type": "execute_result"
    }
   ],
   "source": [
    "solve(A)"
   ]
  },
  {
   "cell_type": "code",
   "execution_count": 13,
   "id": "c72dda34",
   "metadata": {},
   "outputs": [
    {
     "data": {
      "text/plain": [
       "99"
      ]
     },
     "execution_count": 13,
     "metadata": {},
     "output_type": "execute_result"
    }
   ],
   "source": [
    "solve2(A)"
   ]
  }
 ],
 "metadata": {
  "kernelspec": {
   "display_name": "Python 3 (ipykernel)",
   "language": "python",
   "name": "python3"
  },
  "language_info": {
   "codemirror_mode": {
    "name": "ipython",
    "version": 3
   },
   "file_extension": ".py",
   "mimetype": "text/x-python",
   "name": "python",
   "nbconvert_exporter": "python",
   "pygments_lexer": "ipython3",
   "version": "3.8.8"
  }
 },
 "nbformat": 4,
 "nbformat_minor": 5
}
